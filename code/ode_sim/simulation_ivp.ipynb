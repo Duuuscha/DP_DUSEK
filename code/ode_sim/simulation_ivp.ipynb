{
 "cells": [
  {
   "cell_type": "markdown",
   "id": "wireless-advocacy",
   "metadata": {},
   "source": [
    "# Simulation of dynamic systems using solve_ivp, odeint\n",
    "\n",
    "Z. Wang and D. Liu, \"Stability Analysis for a Class of Systems: From Model-Based Methods to Data-Driven Methods,\" in IEEE Transactions on Industrial Electronics, vol. 61, no. 11, pp. 6463-6471, Nov. 2014, doi: 10.1109/TIE.2014.2308146."
   ]
  },
  {
   "cell_type": "markdown",
   "id": "whole-america",
   "metadata": {},
   "source": [
    "## Equation (10)"
   ]
  },
  {
   "cell_type": "markdown",
   "id": "electrical-condition",
   "metadata": {},
   "source": [
    "$\\left\\{\\begin{array}{l}\\dot{x}_{1}(t)=-x_{1}(t)-x_{1}^{3}(t)+x_{2}(t)+3 u_{1}(t) \\\\ \\dot{x}_{2}(t)=-x_{1}(t)-7 x_{2}(t)-2 x_{2}^{5}(t)+\\sin (t) u_{2}(t) \\\\ y(t)=5 x_{1}(t)+6 u_{2}(t)-e^{-t}, \\quad t \\geq 0\\end{array}\\right.$"
   ]
  },
  {
   "cell_type": "code",
   "execution_count": 412,
   "id": "toxic-stockholm",
   "metadata": {},
   "outputs": [],
   "source": [
    "import math\n",
    "import numpy as np\n",
    "import matplotlib.pyplot as plt\n",
    "%matplotlib inline\n",
    "from scipy.integrate import solve_ivp, odeint\n",
    "import matplotlib.pyplot as plt"
   ]
  },
  {
   "cell_type": "code",
   "execution_count": 413,
   "id": "compressed-overall",
   "metadata": {},
   "outputs": [],
   "source": [
    "#plt.style.reload_library()\n",
    "plt.style.use('science')"
   ]
  },
  {
   "cell_type": "code",
   "execution_count": 414,
   "id": "protected-harris",
   "metadata": {},
   "outputs": [],
   "source": [
    "def f10dxdt(t, x, u):\n",
    "    \"\"\"\n",
    "    Parameters\n",
    "    --------\n",
    "        x ... vector of state variables [x1 x2 ... xn]\n",
    "        t ... time\n",
    "        u ... input\n",
    "        \n",
    "    Returns\n",
    "    --------\n",
    "        (dx1_dt, dx2_dt)\n",
    "    \"\"\"\n",
    "    dx1_dt = -x[0]-x[0]**3+x[1]+3*u[0][int(t)]\n",
    "    dx2_dt = -x[0]-7*x[1]-2*x[1]**5+math.sin(math.radians(u[1][int(t)]))\n",
    "    return dx1_dt, dx2_dt\n",
    "\n",
    "def get_y10(x, u, t):\n",
    "    y = []\n",
    "    for t in range(len(t)):\n",
    "        y.append(float(x[0][t]+6*u[1][t]-np.exp(t)))\n",
    "    return y"
   ]
  },
  {
   "cell_type": "code",
   "execution_count": 415,
   "id": "worse-invitation",
   "metadata": {},
   "outputs": [],
   "source": [
    "dt = 0.1\n",
    "t = np.arange(0,40,dt)\n",
    "\n",
    "u1 = np.sin(2*math.pi/10*t)\n",
    "u2 = np.cos(2*math.pi/10*t)\n",
    "u=[u1, u2]"
   ]
  },
  {
   "cell_type": "code",
   "execution_count": 416,
   "id": "apparent-encounter",
   "metadata": {},
   "outputs": [
    {
     "data": {
      "image/png": "[encoded data removed]",
      "text/plain": [
       "<Figure size 252x189 with 1 Axes>"
      ]
     },
     "metadata": {
      "needs_background": "light"
     },
     "output_type": "display_data"
    }
   ],
   "source": [
    "x0 = [0, 0]\n",
    "# x = odeint(f10dxdt, x0, t, (u,))\n",
    "x = solve_ivp(f10dxdt, [0, 100], x0, args=[u])\n",
    "plt.plot(x.t, x.y[0].T, x.t, x.y[1].T)\n",
    "plt.show()"
   ]
  },
  {
   "cell_type": "code",
   "execution_count": 417,
   "id": "pointed-carbon",
   "metadata": {},
   "outputs": [],
   "source": [
    "y = get_y10(x.y, u, x.t)"
   ]
  },
  {
   "cell_type": "code",
   "execution_count": 418,
   "id": "patient-cheese",
   "metadata": {},
   "outputs": [
    {
     "data": {
      "image/png": "[encoded data removed]",
      "text/plain": [
       "<Figure size 252x189 with 1 Axes>"
      ]
     },
     "metadata": {
      "needs_background": "light"
     },
     "output_type": "display_data"
    }
   ],
   "source": [
    "plt.plot(x.t,y)\n",
    "plt.show()"
   ]
  },
  {
   "cell_type": "markdown",
   "id": "developmental-lewis",
   "metadata": {},
   "source": [
    "## Equation (11)"
   ]
  },
  {
   "cell_type": "markdown",
   "id": "spanish-luther",
   "metadata": {},
   "source": [
    "$\\left\\{\\begin{array}{l}\\dot{x}(t)=-\\frac{x(t)}{1+x^{2}(t)}+u(t) \\\\ y(t)=3 x(t)+\\cos (t), \\quad t \\geq 0\\end{array}\\right.$"
   ]
  },
  {
   "cell_type": "code",
   "execution_count": 436,
   "id": "alike-clear",
   "metadata": {},
   "outputs": [],
   "source": [
    "def f11dxdt(t, x, u):\n",
    "    \"\"\"\n",
    "    Parameters\n",
    "    --------\n",
    "        x ... vector of state variables [x1 x2 ... xn]\n",
    "        t ... time\n",
    "        u ... input\n",
    "        \n",
    "    Returns\n",
    "    --------\n",
    "        dx_dt\n",
    "    \"\"\"\n",
    "    dx_dt = -(x/(1+x**2))+u[int(t)]\n",
    "    return dx_dt\n",
    "\n",
    "def get_y11(x, u, t):\n",
    "    y = []\n",
    "    for t in range(len(t)):\n",
    "        y.append(float(3*x[0][t]+math.cos(math.radians(u[t]))))\n",
    "    return y"
   ]
  },
  {
   "cell_type": "code",
   "execution_count": 437,
   "id": "minor-season",
   "metadata": {},
   "outputs": [],
   "source": [
    "dt = 0.1\n",
    "t = np.arange(0,40,dt)\n",
    "\n",
    "u = np.sin(2*math.pi/10*t)"
   ]
  },
  {
   "cell_type": "code",
   "execution_count": 438,
   "id": "authorized-wheel",
   "metadata": {},
   "outputs": [],
   "source": [
    "x0 = [0]\n",
    "\n",
    "# x = odeint(f11dxdt, x0, t, (u,))\n",
    "x = solve_ivp(f11dxdt, [0, 50], x0, args=[u])\n",
    "\n",
    "# plt.plot(x.t, x.y.T)"
   ]
  },
  {
   "cell_type": "code",
   "execution_count": 441,
   "id": "portable-lighting",
   "metadata": {},
   "outputs": [
    {
     "data": {
      "image/png": "[encoded data removed]",
      "text/plain": [
       "<Figure size 252x189 with 1 Axes>"
      ]
     },
     "metadata": {
      "needs_background": "light"
     },
     "output_type": "display_data"
    }
   ],
   "source": [
    "y = get_y11(x.y, u, x.t)\n",
    "\n",
    "plt.plot(x.t,y)\n",
    "plt.show()"
   ]
  },
  {
   "cell_type": "code",
   "execution_count": null,
   "id": "scheduled-thesis",
   "metadata": {},
   "outputs": [],
   "source": []
  },
  {
   "cell_type": "code",
   "execution_count": null,
   "id": "atomic-cemetery",
   "metadata": {},
   "outputs": [],
   "source": []
  }
 ],
 "metadata": {
  "kernelspec": {
   "display_name": "Python 3",
   "language": "python",
   "name": "python3"
  },
  "language_info": {
   "codemirror_mode": {
    "name": "ipython",
    "version": 3
   },
   "file_extension": ".py",
   "mimetype": "text/x-python",
   "name": "python",
   "nbconvert_exporter": "python",
   "pygments_lexer": "ipython3",
   "version": "3.6.7"
  },
  "widgets": {
   "application/vnd.jupyter.widget-state+json": {
    "state": {},
    "version_major": 2,
    "version_minor": 0
   }
  }
 },
 "nbformat": 4,
 "nbformat_minor": 5
}
