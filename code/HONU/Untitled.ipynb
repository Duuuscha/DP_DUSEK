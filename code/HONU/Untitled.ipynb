{
 "cells": [
  {
   "cell_type": "code",
   "execution_count": 283,
   "id": "noticed-sarah",
   "metadata": {},
   "outputs": [
    {
     "name": "stdout",
     "output_type": "stream",
     "text": [
      "[[1, 1, 0, 1, 0, 0], [1, 1, 1, 1, 1, 1], [1, 0, 1, 0, 0, 1], [1, 0, 0, 0, 0, 0]]\n",
      "[[ 0.94210544 -0.72839965 -0.7104931   0.38334947  0.60064626 -0.33664339]]\n"
     ]
    }
   ],
   "source": [
    "# 2th order, two inputs\n",
    "import numpy as np\n",
    "import matplotlib.pyplot as plt\n",
    "from numpy.linalg import inv\n",
    "\n",
    "inputs = [[1, 0],\n",
    "         [1, 1],\n",
    "         [0, 1],\n",
    "         [0, 0]]\n",
    "bias = 2\n",
    "x0 =1\n",
    "y_true = [1,0,1,0]\n",
    "\n",
    "rowx = []\n",
    "\n",
    "for i in inputs:\n",
    "    rowx.append([x0,i[0],i[1],i[0]**2,i[0]*i[1],i[1]**2])\n",
    "\n",
    "\n",
    "#u = sum(bias + )\n",
    "random.uniform(-1,1)\n",
    "\n",
    "rowW = np.random.uniform(-1,1,size=(1,6))\n",
    "print(rowx)\n",
    "print(rowW)"
   ]
  },
  {
   "cell_type": "code",
   "execution_count": 284,
   "id": "neural-denver",
   "metadata": {},
   "outputs": [
    {
     "data": {
      "text/plain": [
       "array([ 0.59705526,  0.15056503, -0.10503105,  0.94210544])"
      ]
     },
     "execution_count": 284,
     "metadata": {},
     "output_type": "execute_result"
    }
   ],
   "source": [
    "\n",
    "u = np.sum(np.dot(np.array(rowx), np.array(rowW).T), axis=1)\n",
    "u"
   ]
  },
  {
   "cell_type": "code",
   "execution_count": 285,
   "id": "applied-significance",
   "metadata": {},
   "outputs": [],
   "source": [
    "def sigmoid(x):\n",
    "    return 1/(1+np.exp(-x))"
   ]
  },
  {
   "cell_type": "code",
   "execution_count": 286,
   "id": "removable-wesley",
   "metadata": {
    "scrolled": true
   },
   "outputs": [
    {
     "data": {
      "text/plain": [
       "array([0.64498231, 0.53757031, 0.47376635, 0.71952475])"
      ]
     },
     "execution_count": 286,
     "metadata": {},
     "output_type": "execute_result"
    }
   ],
   "source": [
    "y_pred = sigmoid(u)\n",
    "y_pred = np.array(y_pred)\n",
    "y_pred"
   ]
  },
  {
   "cell_type": "code",
   "execution_count": 446,
   "id": "affiliated-greece",
   "metadata": {},
   "outputs": [
    {
     "name": "stdout",
     "output_type": "stream",
     "text": [
      "[[ 2.59778495  0.59941603  2.45109349  0.26245107]\n",
      " [ 2.08134317  0.08297425  0.08323066  0.08323066]\n",
      " [ 0.49142756  0.49117115  2.34284861  0.49142756]\n",
      " [ 1.57238458 -0.42598434 -0.42572793 -0.42572793]\n",
      " [ 0.23251268  0.23225627  0.23251268  0.23251268]\n",
      " [ 0.27679763  0.27654121  2.12821867  0.27679763]]\n"
     ]
    },
    {
     "data": {
      "text/plain": [
       "array([[ 1.99811251e+00, -2.56411610e-04,  1.85142105e+00,\n",
       "        -3.37221368e-01],\n",
       "       [ 1.99811251e+00, -2.56411610e-04,  0.00000000e+00,\n",
       "        -0.00000000e+00],\n",
       "       [ 0.00000000e+00, -2.56411610e-04,  1.85142105e+00,\n",
       "        -0.00000000e+00],\n",
       "       [ 1.99811251e+00, -2.56411610e-04,  0.00000000e+00,\n",
       "        -0.00000000e+00],\n",
       "       [ 0.00000000e+00, -2.56411610e-04,  0.00000000e+00,\n",
       "        -0.00000000e+00],\n",
       "       [ 0.00000000e+00, -2.56411610e-04,  1.85142105e+00,\n",
       "        -0.00000000e+00]])"
      ]
     },
     "execution_count": 446,
     "metadata": {},
     "output_type": "execute_result"
    }
   ],
   "source": [
    "\n",
    "colW=np.array(weights).T\n",
    "row_x=np.array(honu_inputs)\n",
    "lr=2\n",
    "colW = np.add(colW,lr*row_x.T*(y_true-y_pred)*row_x.T)\n",
    "print(colW)\n",
    "lr*row_x.T*(y_true-y_pred)"
   ]
  },
  {
   "cell_type": "code",
   "execution_count": 447,
   "id": "commercial-sheriff",
   "metadata": {},
   "outputs": [
    {
     "data": {
      "text/plain": [
       "array([ 8.53646865, 16.24149299, 12.68597557,  5.91074555])"
      ]
     },
     "execution_count": 447,
     "metadata": {},
     "output_type": "execute_result"
    }
   ],
   "source": [
    "u = np.sum(np.dot(np.array(rowx), np.array(colW)), axis=1)\n",
    "u"
   ]
  },
  {
   "cell_type": "code",
   "execution_count": 448,
   "id": "latin-destruction",
   "metadata": {},
   "outputs": [
    {
     "data": {
      "text/plain": [
       "array([0.99980386, 0.99999991, 0.99999691, 0.99729716])"
      ]
     },
     "execution_count": 448,
     "metadata": {},
     "output_type": "execute_result"
    }
   ],
   "source": [
    "y_pred = sigmoid(u)\n",
    "y_pred = np.array(y_pred)\n",
    "y_pred"
   ]
  },
  {
   "cell_type": "code",
   "execution_count": null,
   "id": "respected-processor",
   "metadata": {},
   "outputs": [],
   "source": []
  },
  {
   "cell_type": "code",
   "execution_count": 127,
   "id": "deadly-species",
   "metadata": {},
   "outputs": [],
   "source": [
    "m = np.arange(1,10).reshape(3,3)"
   ]
  },
  {
   "cell_type": "code",
   "execution_count": 130,
   "id": "described-thousand",
   "metadata": {},
   "outputs": [
    {
     "name": "stdout",
     "output_type": "stream",
     "text": [
      "[1 2 3 4 5 6 7 8 9]\n"
     ]
    }
   ],
   "source": [
    "print(m.flatten())"
   ]
  },
  {
   "cell_type": "code",
   "execution_count": 131,
   "id": "joined-attachment",
   "metadata": {},
   "outputs": [],
   "source": [
    "x = [1,2,3]"
   ]
  },
  {
   "cell_type": "code",
   "execution_count": 133,
   "id": "theoretical-shadow",
   "metadata": {},
   "outputs": [
    {
     "data": {
      "text/plain": [
       "array([14, 32, 50])"
      ]
     },
     "execution_count": 133,
     "metadata": {},
     "output_type": "execute_result"
    }
   ],
   "source": [
    "np.dot(x,m.T)"
   ]
  },
  {
   "cell_type": "code",
   "execution_count": 159,
   "id": "deadly-demographic",
   "metadata": {},
   "outputs": [
    {
     "data": {
      "text/plain": [
       "array([[ 1,  2,  3,  4],\n",
       "       [ 5,  6,  7,  8],\n",
       "       [ 9, 10, 11, 12],\n",
       "       [13, 14, 15, 16]])"
      ]
     },
     "execution_count": 159,
     "metadata": {},
     "output_type": "execute_result"
    }
   ],
   "source": [
    "m = np.arange(1,17).reshape(4,4)\n",
    "m"
   ]
  },
  {
   "cell_type": "code",
   "execution_count": 188,
   "id": "female-immune",
   "metadata": {},
   "outputs": [
    {
     "data": {
      "text/plain": [
       "[1, 2, 3, 4, 6, 7, 8, 11, 12, 16]"
      ]
     },
     "execution_count": 188,
     "metadata": {},
     "output_type": "execute_result"
    }
   ],
   "source": [
    "col_w = []\n",
    "row_n = 0\n",
    "for i in m:\n",
    "    for j in i[row_n:]:\n",
    "        col_w.append(j)\n",
    "    row_n+=1\n",
    "col_w"
   ]
  },
  {
   "cell_type": "code",
   "execution_count": 189,
   "id": "ordinary-third",
   "metadata": {},
   "outputs": [],
   "source": [
    "inputs = [1,2,3]\n",
    "bias = 4\n",
    "row_x = [bias,\n",
    "       inputs[0], inputs[1], inputs[2],\n",
    "       inputs[0]*inputs[0], inputs[0]*inputs[1], inputs[0]*inputs[2], \n",
    "       inputs[1]*inputs[1], inputs[1]*inputs[2], \n",
    "       inputs[2]*inputs[2]]\n"
   ]
  },
  {
   "cell_type": "code",
   "execution_count": 195,
   "id": "floppy-payment",
   "metadata": {},
   "outputs": [
    {
     "data": {
      "text/plain": [
       "1.0"
      ]
     },
     "execution_count": 195,
     "metadata": {},
     "output_type": "execute_result"
    }
   ],
   "source": [
    "u = np.dot(row_x, np.array(col_w).T)\n",
    "y = sigmoid(u)\n",
    "y"
   ]
  },
  {
   "cell_type": "code",
   "execution_count": 470,
   "id": "genuine-organ",
   "metadata": {},
   "outputs": [
    {
     "data": {
      "text/plain": [
       "array([[-2.59778495, -4.16268633,  0.        , -3.14476916,  0.        ,\n",
       "         0.        ],\n",
       "       [-5.1955699 , -2.08134317,  0.        , -3.14476916,  0.        ,\n",
       "         0.        ],\n",
       "       [-5.1955699 , -4.16268633,  0.49142756, -3.14476916,  0.        ,\n",
       "         0.        ],\n",
       "       [-5.1955699 , -4.16268633,  0.        , -1.57238458,  0.        ,\n",
       "         0.        ],\n",
       "       [-5.1955699 , -4.16268633,  0.        , -3.14476916,  0.23251268,\n",
       "         0.        ],\n",
       "       [-5.1955699 , -4.16268633,  0.        , -3.14476916,  0.        ,\n",
       "         0.27679763]])"
      ]
     },
     "execution_count": 470,
     "metadata": {},
     "output_type": "execute_result"
    }
   ],
   "source": [
    "np.subtract(np.eye(6,6),lr*np.array(row_x[0]).T*row_x[0])*colW.T[0]"
   ]
  },
  {
   "cell_type": "code",
   "execution_count": 467,
   "id": "south-tuner",
   "metadata": {},
   "outputs": [
    {
     "data": {
      "text/plain": [
       "array([2.59778495, 0.59941603, 2.45109349, 0.26245107])"
      ]
     },
     "execution_count": 467,
     "metadata": {},
     "output_type": "execute_result"
    }
   ],
   "source": []
  },
  {
   "cell_type": "code",
   "execution_count": null,
   "id": "determined-settle",
   "metadata": {},
   "outputs": [],
   "source": []
  }
 ],
 "metadata": {
  "kernelspec": {
   "display_name": "Python 3",
   "language": "python",
   "name": "python3"
  },
  "language_info": {
   "codemirror_mode": {
    "name": "ipython",
    "version": 3
   },
   "file_extension": ".py",
   "mimetype": "text/x-python",
   "name": "python",
   "nbconvert_exporter": "python",
   "pygments_lexer": "ipython3",
   "version": "3.6.7"
  }
 },
 "nbformat": 4,
 "nbformat_minor": 5
}
